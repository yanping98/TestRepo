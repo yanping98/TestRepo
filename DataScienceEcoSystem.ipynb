{
 "cells": [
  {
   "cell_type": "markdown",
   "id": "d964ba24-37d9-4c59-9eaa-bedabd18a35e",
   "metadata": {},
   "source": [
    "Exercise 2: Create markdown cell with title of the notebook\n",
    "\n",
    "Create a markdown cell with the title Data Science Tools and Ecosystem using H1 style heading.\n",
    "Take a screenshot of the markdown cell and name it as 2-title.png (Images can be saved with either the .jpg or .png extension.)"
   ]
  },
  {
   "cell_type": "markdown",
   "id": "7fe763a1-ce3a-40f9-8981-89de5feeb70e",
   "metadata": {},
   "source": [
    "# Data Science Tools and Ecosystems"
   ]
  },
  {
   "cell_type": "markdown",
   "id": "52ef7756-782d-42fc-a6c2-d693c44303fb",
   "metadata": {},
   "source": [
    "Exercise 3 - Create a markdown cell for an introduction\n",
    "\r\n",
    "Write an introductory sentence about the notebook such as the follow:\r\n",
    "\r\n",
    "In this notebook, Data Science Tools and Ecosystem are summari\n",
    "Take a screenshot of the markdown cell and name it as 3-intro.png (Images can be saved with either the .jpg or .png extension.)zed."
   ]
  },
  {
   "cell_type": "markdown",
   "id": "a136770f-7d2a-413b-af19-8558711631f5",
   "metadata": {},
   "source": [
    "In this notebook, Data Science Tools and Ecosystems are summarized."
   ]
  },
  {
   "cell_type": "markdown",
   "id": "d173a64e-b704-42d0-bc2b-8fdc0b6130be",
   "metadata": {},
   "source": [
    "Exercise 10 - Insert a markdown cell to list Objectives\r\n",
    "\r\n",
    "Below the introduction cell created in Exercise 3, insert a new markdown cell to list the objectives that this notebook covered (i.e. some of the key takeaways from the course). In this new cell start with an introductory line titled: Objectives: in bold font. Then using an unordered list (bullets) indicate 3 to 5 items covered in this notebook, such as List popular languages for Data Science.\r\n",
    "Take a screenshot of the markdown cell and name it as 10-objectives.png (Images can be saved with either the .jpg or .png extension.)"
   ]
  },
  {
   "cell_type": "markdown",
   "id": "6deee8a6-45f5-4b95-9609-5f15b63fe20d",
   "metadata": {},
   "source": [
    "**Objectives:**\n",
    "- Python\n",
    "- R\n",
    "- SQL\n",
    "- Gitlab"
   ]
  },
  {
   "cell_type": "markdown",
   "id": "77518675-74db-4d06-8b5b-006b75714d3f",
   "metadata": {},
   "source": [
    "Exercise 4 - Create a markdown cell to list data science languages\n",
    "\r\n",
    "Start the cell with an overview line such a:\r\n",
    "\r\n",
    "Some of the popular languages that Data Scientists use are:\r\n",
    "Then create an ordered list (i.e. numbered) listing 3 (or more) commonly used languages for data science.\r\n",
    "Take a screenshot of the markdown cell and name it as 4-dslanguages.png (Images can be saved with either the .jpg or .png extension.)"
   ]
  },
  {
   "cell_type": "markdown",
   "id": "ef68e1bf-e5b1-41bb-b378-db796483ecdb",
   "metadata": {},
   "source": [
    "Some of the popular languages that Data Scientists use are:\n",
    "1. Python\n",
    "2. R\n",
    "3. SAS\n",
    "4. Julia"
   ]
  },
  {
   "cell_type": "markdown",
   "id": "087fa8f6-8406-45de-b824-352e204d7152",
   "metadata": {},
   "source": [
    "Exercise 5 - Create a markdown cell to list data science libraries\n",
    "\r\n",
    "Add an overview line to the cell lik:\r\n",
    "\r\n",
    "Some of the commonly used libraries used by Data Scientists include:\r\n",
    "Below this line add an ordered list listing 3 (or more) commonly used libraries in data science.\r\n",
    "Take a screenshot of the markdown cell and name it as 5-dslibraries.png (Images can be saved with either the .jpg or .png extension.)"
   ]
  },
  {
   "cell_type": "markdown",
   "id": "0f538a82-4473-458f-8e9b-38333690c4e4",
   "metadata": {},
   "source": [
    "Some of the commonly used libraies used by Data Scientists include:\n",
    "1. Numpy\n",
    "2. Scikit-learn\n",
    "3. Matplotlib\n",
    "4. Scipy\n",
    "5. TensorFlow"
   ]
  },
  {
   "cell_type": "markdown",
   "id": "e6aaf660-e831-4cb8-9fda-f4a7a53ba39b",
   "metadata": {},
   "source": [
    "Exercise 6 - Create a markdown cell with a table of Data Science tools\n",
    "\r\n",
    "Create a single column table in this cell with the first row containing the header Data Science Tools. The subsequent three rows in the table should dndicate three development environment open source tools used in data scienc.\r\n",
    "\r\n",
    "Take a screenshot of the markdown cell and name it as 6-dstools.png (Images can be saved with either the .jpg or .png extension.)"
   ]
  },
  {
   "cell_type": "markdown",
   "id": "018b63a3-4ea6-470a-8940-66fcc159191f",
   "metadata": {},
   "source": [
    "| Data Science Tools | \n",
    "| -------------------|\n",
    "| RStudio |\n",
    "| JupyterLab|\n",
    "| Visual Studio |\n",
    "| Google Colab |"
   ]
  },
  {
   "cell_type": "markdown",
   "id": "5fea6e37-c515-4b7d-ae0d-37b1fad26613",
   "metadata": {},
   "source": [
    "Exercise 7 - Create a markdown cell introducing arithmetic expression examples: \n",
    "Add a line in this cell with H3 style heading with text like:"
   ]
  },
  {
   "cell_type": "markdown",
   "id": "773fef31-ba1d-4ce6-b636-3af747dc3dd4",
   "metadata": {},
   "source": [
    "### Below are a few examples of evaluating arithmetic expressions in Python"
   ]
  },
  {
   "cell_type": "markdown",
   "id": "1e37249e-0d16-4d4b-a079-3f6c85e9f2fc",
   "metadata": {},
   "source": [
    "Exercise 8 - Create a code cell to multiply and add numbers\n",
    "\n",
    "In this code cell evaluate the expression (3*4)+5.\n",
    "Insert a comment line before the expression to explain the operation e.g.  This a simple arithmetic expression to mutiply then add integers.\n",
    "Then execute the cell to ensure the expression returns the expected output of 17."
   ]
  },
  {
   "cell_type": "code",
   "execution_count": 5,
   "id": "f27ad12c-9192-44d9-bb9a-284cfce6563e",
   "metadata": {},
   "outputs": [
    {
     "data": {
      "text/plain": [
       "17"
      ]
     },
     "execution_count": 5,
     "metadata": {},
     "output_type": "execute_result"
    }
   ],
   "source": [
    "#This is a simple arithmetic expression to multiply then add integers\n",
    "(3*4)+5"
   ]
  },
  {
   "cell_type": "markdown",
   "id": "1bdf24bd-bfc0-48b5-bcdf-92aeea6abe18",
   "metadata": {},
   "source": [
    "Exercise 9 - Create a code cell to convert minutes to hours\r\n",
    "\r\n",
    "In this code cell write an expression that converts 200 minutes into hours.\r\n",
    "Insert a comment line before the expression to explain the operation e.g.  This will convert 200 minutes to hours by diving by 60.\r\n",
    "Run the cell to evaluate the expression.\r\n",
    "Take a screenshot of the code cell with output and name it as 9-hourstominutes.png (Images can be saved with either the .jpg or .png extension.)"
   ]
  },
  {
   "cell_type": "code",
   "execution_count": 7,
   "id": "77013cd1-bd0f-421f-8e39-2ac9d9ab6c90",
   "metadata": {},
   "outputs": [
    {
     "data": {
      "text/plain": [
       "3.3333333333333335"
      ]
     },
     "execution_count": 7,
     "metadata": {},
     "output_type": "execute_result"
    }
   ],
   "source": [
    "#This will convert 200 minutes to hours by dividing y 60\n",
    "hours = 200/60\n",
    "hours"
   ]
  },
  {
   "cell_type": "markdown",
   "id": "40aca724-a338-4a77-b952-1d9ddc2af9a4",
   "metadata": {},
   "source": [
    "Exercise 11 - Create a markdown cell to indicate the Author's name\n",
    "\n",
    "In this markdown cell markdown cell include the following text Author in H2 style heading. Include your name as regular text below the word Author.\n",
    "Take a screenshot of the markdown cell and name it as 11-authordetails.png (Images can be saved with either the .jpg or .png extension.)"
   ]
  },
  {
   "cell_type": "markdown",
   "id": "92c5773d-ea06-4f68-8824-e992a2117420",
   "metadata": {},
   "source": [
    "## Author:\n",
    "Ping Yan"
   ]
  },
  {
   "cell_type": "markdown",
   "id": "7947da23-4576-4e4f-add8-53568c261e12",
   "metadata": {},
   "source": [
    "Exercise 12 - Share your notebook through GitHub\n",
    "\n",
    "Upload your notebook to a public respository on GitHub.\n",
    "\n",
    "Note : Please keep the GitHub repo link of the notebook handy.\n",
    "You will need to submit this link as a part of the assignment evaluation."
   ]
  },
  {
   "cell_type": "markdown",
   "id": "c5bb9f3c-2d54-4339-802c-75754b73b736",
   "metadata": {},
   "source": [
    "Exercise 13 -Take a screenshot of the first page of the notebook and save it as 1-notebook.png(Images can be saved with either the .jpg or .png extension.)"
   ]
  }
 ],
 "metadata": {
  "kernelspec": {
   "display_name": "Python 3 (ipykernel)",
   "language": "python",
   "name": "python3"
  },
  "language_info": {
   "codemirror_mode": {
    "name": "ipython",
    "version": 3
   },
   "file_extension": ".py",
   "mimetype": "text/x-python",
   "name": "python",
   "nbconvert_exporter": "python",
   "pygments_lexer": "ipython3",
   "version": "3.12.4"
  }
 },
 "nbformat": 4,
 "nbformat_minor": 5
}
